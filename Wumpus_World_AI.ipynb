{
  "cells": [
    {
      "cell_type": "code",
      "execution_count": null,
      "metadata": {
        "colab": {
          "base_uri": "https://localhost:8080/"
        },
        "id": "nyYe3yQIUj2C",
        "outputId": "646b003e-6951-4d47-a3d9-661024368a63"
      },
      "outputs": [
        {
          "name": "stdout",
          "output_type": "stream",
          "text": [
            "You are in room  (4, 0)\n",
            "Find the gold and avoid the Wumpus!\n"
          ]
        }
      ],
      "source": [
        "# Define the world state\n",
        "world_state = [\n",
        "    [0, 0, 0, 0, 0],\n",
        "    [0, 1, 1, 1, 0],\n",
        "    [0, 1, 0, 1, 0],\n",
        "    [0, 1, 1, 1, 0],\n",
        "    [0, 0, 0, 0, 0]\n",
        "]\n",
        "\n",
        "# Define the position of the Wumpus\n",
        "wumpus_position = (2, 2)\n",
        "\n",
        "# Define the position of the gold\n",
        "gold_position = (1, 3)\n",
        "\n",
        "# Define the initial position of the player\n",
        "player_position = (4, 0)\n",
        "\n",
        "# Check if the Wumpus is in an adjacent room\n",
        "def check_wumpus(x, y):\n",
        "    if world_state[x][y] == 1:\n",
        "        print(\"I smell a Wumpus!\")\n",
        "\n",
        "# Check if the gold is in an adjacent room\n",
        "def check_gold(x, y):\n",
        "    if world_state[x][y] == 2:\n",
        "        print(\"I see the gold!\")\n",
        "\n",
        "# Move the player to a new room\n",
        "def move_player(x, y):\n",
        "    player_position = (x, y)\n",
        "    check_wumpus(x, y)\n",
        "    check_gold(x, y)\n",
        "\n",
        "# Start the game\n",
        "print(\"You are in room \", player_position)\n",
        "print(\"Find the gold and avoid the Wumpus!\")\n",
        "\n",
        "# Move the player to a new room\n",
        "move_player(3, 0)\n"
      ]
    }
  ],
  "metadata": {
    "colab": {
      "provenance": []
    },
    "kernelspec": {
      "display_name": "Python 3",
      "name": "python3"
    },
    "language_info": {
      "name": "python"
    }
  },
  "nbformat": 4,
  "nbformat_minor": 0
}
