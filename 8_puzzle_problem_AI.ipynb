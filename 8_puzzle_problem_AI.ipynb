{
  "cells": [
    {
      "cell_type": "code",
      "execution_count": null,
      "metadata": {
        "colab": {
          "base_uri": "https://localhost:8080/"
        },
        "id": "LxsnWl2qMHXD",
        "outputId": "3a52e5be-5b29-4888-ab3c-5acb3a492951"
      },
      "outputs": [
        {
          "name": "stdout",
          "output_type": "stream",
          "text": [
            "Found Goal State : \n",
            "[1, 2, 3]\n",
            "[8, 0, 4]\n",
            "[7, 6, 5]\n",
            "2\n"
          ]
        }
      ],
      "source": [
        "initial_state = [[1, 2, 0],\n",
        "                 [8, 4, 3],\n",
        "                 [7, 6, 5]]\n",
        "\n",
        "goal_state = [[1, 2, 3],\n",
        "              [8, 0, 4],\n",
        "              [7, 6, 5]]\n",
        "\n",
        "def is_goal_state(state, goal_state):\n",
        "  return state == goal_state\n",
        "\n",
        "def find_blank_tile(state):\n",
        "  for i in range(3):\n",
        "    for j in range(3):\n",
        "      if state[i][j] == 0:\n",
        "        return (i, j)\n",
        "\n",
        "def generate_states(state):\n",
        "  blank_tile = find_blank_tile(state)\n",
        "  i, j = blank_tile[0], blank_tile[1]\n",
        "  states = []\n",
        "\n",
        "  if i > 0: # moving blank tile left\n",
        "    new_state = [row[:] for row in state]\n",
        "    new_state[i][j], new_state[i-1][j] = new_state[i-1][j], new_state[i][j]\n",
        "    states.append(new_state)\n",
        "\n",
        "  if i < 2: # moving blank tile right\n",
        "    new_state = [row[:] for row in state]\n",
        "    new_state[i][j], new_state[i+1][j] = new_state[i+1][j], new_state[i][j]\n",
        "    states.append(new_state)\n",
        "\n",
        "  if j > 0: # moving blank tile up\n",
        "    new_state = [row[:] for row in state]\n",
        "    new_state[i][j], new_state[i][j-1] = new_state[i][j-1], new_state[i][j]\n",
        "    states.append(new_state)\n",
        "\n",
        "  if j < 2: # moving blank tile down\n",
        "    new_state = [row[:] for row in state]\n",
        "    new_state[i][j], new_state[i][j+1] = new_state[i][j+1], new_state[i][j]\n",
        "    states.append(new_state)\n",
        "\n",
        "  return states\n",
        "\n",
        "def breadth_first_search():\n",
        "  height = 0\n",
        "\n",
        "  if is_goal_state(initial_state, goal_state):\n",
        "    print(\"Found Goal State :\")\n",
        "    for row in initial_state:\n",
        "      print(row)\n",
        "    print(height)\n",
        "    return\n",
        "\n",
        "  visited_state = [initial_state]\n",
        "  queue = [initial_state]\n",
        "\n",
        "  while queue:\n",
        "    height += 1\n",
        "    current_state = queue.pop(0)\n",
        "\n",
        "    for state in generate_states(current_state):\n",
        "      if state not in visited_state:\n",
        "        if is_goal_state(state, goal_state):\n",
        "          print(\"Found Goal State : \")\n",
        "          for row in state:\n",
        "            print(row)\n",
        "          print(height)\n",
        "          return\n",
        "        queue.append(state)\n",
        "        visited_state.append(state)\n",
        "\n",
        "breadth_first_search()"
      ]
    }
  ],
  "metadata": {
    "colab": {
      "provenance": []
    },
    "kernelspec": {
      "display_name": "Python 3",
      "name": "python3"
    },
    "language_info": {
      "name": "python"
    }
  },
  "nbformat": 4,
  "nbformat_minor": 0
}
