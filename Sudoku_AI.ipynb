{
  "cells": [
    {
      "cell_type": "code",
      "execution_count": null,
      "metadata": {
        "colab": {
          "base_uri": "https://localhost:8080/"
        },
        "id": "DWA9kAvoSM1j",
        "outputId": "c8e40322-515e-463d-ed5a-fb8176efe706"
      },
      "outputs": [
        {
          "name": "stdout",
          "output_type": "stream",
          "text": [
            "3 1 6 5 7 8 4 9 2 \n",
            "5 2 9 1 3 4 7 6 8 \n",
            "4 8 7 6 2 9 5 3 1 \n",
            "2 6 3 4 1 5 9 8 7 \n",
            "9 7 4 8 6 3 1 2 5 \n",
            "8 5 1 7 9 2 6 4 3 \n",
            "1 3 8 9 4 7 2 5 6 \n",
            "6 9 2 3 5 1 8 7 4 \n",
            "7 4 5 2 8 6 3 1 9 \n"
          ]
        }
      ],
      "source": [
        "N = 9\n",
        "def printing(arr):\n",
        "    for i in range(N):\n",
        "        for j in range(N):\n",
        "            print(arr[i][j], end = \" \")\n",
        "        print()\n",
        "\n",
        "\n",
        "def isSafe(grid, row, col, num):\n",
        "\n",
        "    for x in range(9):\n",
        "        if grid[row][x] == num:\n",
        "            return False\n",
        "    for x in range(9):\n",
        "        if grid[x][col] == num:\n",
        "            return False\n",
        "\n",
        "\n",
        "    startRow = row - row % 3\n",
        "    startCol = col - col % 3\n",
        "    for i in range(3):\n",
        "        for j in range(3):\n",
        "            if grid[i + startRow][j + startCol] == num:\n",
        "                return False\n",
        "    return True\n",
        "\n",
        "def solveSudoku(grid, row, col):\n",
        "\n",
        "    if (row == N - 1 and col == N):\n",
        "        return True\n",
        "    if col == N:\n",
        "        row += 1\n",
        "        col = 0\n",
        "\n",
        "    if grid[row][col] > 0:\n",
        "        return solveSudoku(grid, row, col + 1)\n",
        "    for num in range(1, N + 1, 1):\n",
        "\n",
        "        if isSafe(grid, row, col, num):\n",
        "\n",
        "            grid[row][col] = num\n",
        "\n",
        "            if solveSudoku(grid, row, col + 1):\n",
        "                return True\n",
        "\n",
        "        grid[row][col] = 0\n",
        "    return False\n",
        " # 0 means unassigned cells\n",
        "grid = [[3, 0, 6, 5, 0, 8, 4, 0, 0],\n",
        "        [5, 2, 0, 0, 0, 0, 0, 0, 0],\n",
        "        [0, 8, 7, 0, 0, 0, 0, 3, 1],\n",
        "        [0, 0, 3, 0, 1, 0, 0, 8, 0],\n",
        "        [9, 0, 0, 8, 6, 3, 0, 0, 5],\n",
        "        [0, 5, 0, 0, 9, 0, 6, 0, 0],\n",
        "        [1, 3, 0, 0, 0, 0, 2, 5, 0],\n",
        "        [0, 0, 0, 0, 0, 0, 0, 7, 4],\n",
        "        [0, 0, 5, 2, 0, 6, 3, 0, 0]]\n",
        "\n",
        "if (solveSudoku(grid, 0, 0)):\n",
        "    printing(grid)\n",
        "else:\n",
        "    print(\"no solution  exists \")"
      ]
    }
  ],
  "metadata": {
    "colab": {
      "provenance": []
    },
    "kernelspec": {
      "display_name": "Python 3",
      "name": "python3"
    },
    "language_info": {
      "name": "python"
    }
  },
  "nbformat": 4,
  "nbformat_minor": 0
}
